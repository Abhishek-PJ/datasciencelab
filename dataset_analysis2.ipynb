{
 "cells": [
  {
   "cell_type": "code",
   "execution_count": null,
   "metadata": {},
   "outputs": [],
   "source": [
    "import pandas as pd\n",
    "import numpy as np\n",
    "import matplotlib.pyplot as plt\n",
    "import seaborn as sns\n",
    "\n",
    "# Load the dataset\n",
    "df = pd.read_csv(\"mpg1.csv\")\n",
    "\n",
    "# Dimension\n",
    "print(\"Shape of the dataset:\", df.shape)\n",
    "\n",
    "# Structure\n",
    "print(\"\\nColumns and Data Types:\\n\", df.dtypes)\n",
    "\n",
    "# Summary\n",
    "print(\"\\nSummary:\\n\", df.describe(include='all'))"
   ]
  },
  {
   "cell_type": "code",
   "execution_count": null,
   "metadata": {},
   "outputs": [],
   "source": [
    "df = pd.read_csv(\"mpg.csv\")  # Load the file\n",
    "print(df.isnull().sum())  # Check missing values before filling\n",
    "\n",
    "df.fillna(df.mean(numeric_only=True), inplace=True)  # Fill missing numeric values with mean\n",
    "\n",
    "df.to_csv(\"mpg.csv\", index=False)  # Save changes back to the same file\n",
    "\n",
    "print(df.isnull().sum())  # Check again to confirm changes\n"
   ]
  },
  {
   "cell_type": "code",
   "execution_count": null,
   "metadata": {},
   "outputs": [],
   "source": [
    "# Plot histograms\n",
    "df[['acceleration', 'weight']].hist(bins=30, figsize=(10, 5))\n",
    "plt.suptitle('Histograms of Continuous Variables')\n",
    "plt.show()"
   ]
  },
  {
   "cell_type": "code",
   "execution_count": null,
   "metadata": {},
   "outputs": [],
   "source": [
    "# Violin plot for a numerical column\n",
    "sns.violinplot(data=df, x='horsepower')\n",
    "plt.title('Violin Plot of horsepower')\n",
    "plt.show()"
   ]
  },
  {
   "cell_type": "code",
   "execution_count": null,
   "metadata": {},
   "outputs": [],
   "source": [
    "#boxplot\n",
    "\n",
    "#Display box plot before outlier treatment\n",
    "sns.boxplot(x=df['horsepower'])\n",
    "plt.title('Box Plot Before Outlier Treatment')\n",
    "plt.show()\n",
    "\n",
    "# Identify outliers using IQR (Interquartile Range)\n",
    "Q1 = df['horsepower'].quantile(0.25)\n",
    "Q3 = df['horsepower'].quantile(0.75)\n",
    "IQR = Q3 - Q1\n",
    "lower_bound = Q1 - 1.5 * IQR\n",
    "upper_bound = Q3 + 1.5 * IQR\n",
    "\n",
    "# Filter the data to remove outliers\n",
    "df_filtered = df[(df['horsepower'] >= lower_bound) & (df['horsepower'] <= upper_bound)]\n",
    "\n",
    "# Display box plot after outlier treatment\n",
    "sns.boxplot(x=df_filtered['horsepower'])\n",
    "plt.title('Box Plot After Outlier Treatment')\n",
    "plt.show()\n"
   ]
  },
  {
   "cell_type": "code",
   "execution_count": null,
   "metadata": {},
   "outputs": [],
   "source": [
    "#heatmap\n",
    "\n",
    "#  Select only the numeric columns for correlation\n",
    "numeric_df = df.select_dtypes(include=[float, int])\n",
    "\n",
    "# # Calculate the correlation matrix\n",
    "correlation_matrix = numeric_df.corr()\n",
    "\n",
    "# # Create the heatmap\n",
    "sns.heatmap(correlation_matrix, annot=True, cmap='coolwarm', fmt='.2f', linewidths=0.5)\n",
    "plt.title('Heatmap of Attribute Relationships')\n",
    "plt.show()"
   ]
  },
  {
   "cell_type": "code",
   "execution_count": 60,
   "metadata": {},
   "outputs": [
    {
     "name": "stdout",
     "output_type": "stream",
     "text": [
      "        mpg  cylinders  displacement  horsepower    weight  acceleration  \\\n",
      "0 -0.706439          8         307.0     0.00000  0.630870     -1.295498   \n",
      "1 -1.090751          8         350.0     0.00000  0.854333     -1.477038   \n",
      "2 -0.706439          8         318.0     0.00000  0.550470     -1.658577   \n",
      "3 -0.962647          8         304.0     0.00000  0.546923     -1.295498   \n",
      "4 -0.834543          8         302.0     0.95031  0.565841     -1.840117   \n",
      "\n",
      "   model_year origin                       name  \n",
      "0          70    usa  chevrolet chevelle malibu  \n",
      "1          70    usa          buick skylark 320  \n",
      "2          70    usa         plymouth satellite  \n",
      "3          70    usa              amc rebel sst  \n",
      "4          70    usa                ford torino  \n"
     ]
    }
   ],
   "source": [
    "from sklearn.preprocessing import StandardScaler\n",
    "\n",
    "# Load the dataset\n",
    "df = pd.read_csv(\"mpg.csv\")\n",
    "\n",
    "continuous_columns = ['mpg', 'horsepower', 'weight', 'acceleration']\n",
    "\n",
    "# Initialize StandardScaler\n",
    "scaler = StandardScaler()\n",
    "\n",
    "# Standardize the continuous variables\n",
    "df[continuous_columns] = scaler.fit_transform(df[continuous_columns])\n",
    "\n",
    "# Save the standardized data to a new CSV file\n",
    "df.to_csv(\"standardized_mpg.csv\", index=False)\n",
    "\n",
    "# Print the first few rows to check the results\n",
    "print(\"standardized data\")\n",
    "print(df.head())\n"
   ]
  }
 ],
 "metadata": {
  "kernelspec": {
   "display_name": "Python 3",
   "language": "python",
   "name": "python3"
  },
  "language_info": {
   "codemirror_mode": {
    "name": "ipython",
    "version": 3
   },
   "file_extension": ".py",
   "mimetype": "text/x-python",
   "name": "python",
   "nbconvert_exporter": "python",
   "pygments_lexer": "ipython3",
   "version": "3.13.1"
  }
 },
 "nbformat": 4,
 "nbformat_minor": 2
}
